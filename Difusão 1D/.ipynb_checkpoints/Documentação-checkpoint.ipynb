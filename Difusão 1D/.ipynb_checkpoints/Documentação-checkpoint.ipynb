{
 "cells": [
  {
   "cell_type": "markdown",
   "metadata": {},
   "source": [
    "# Utilizando o módulo ThermDiff\n",
    "\n",
    "Solução dos problemas de difusão térmica em um meio quiescente unidimensional.\n",
    "\n",
    "$$\\frac{\\partial T}{\\partial t} = \\alpha \\frac{\\partial ^2 T}{\\partial x^2}$$\n",
    "\n",
    "Novidades com relação ao problema anterior:\n",
    "\n",
    " - Operador differencial assimétrico\n",
    " - Uso de condições de contorno\n",
    " - Esquemas compactos com integradores implícitos\n",
    "\n",
    "**Integradores implementados:**\n",
    " - Euler explícito\n",
    " - MacCormack\n",
    " - RK4\n",
    " - Lax-Wendroff\n",
    " - Euler implícito\n",
    " - Trapezoidal\n",
    " - ABM3"
   ]
  },
  {
   "cell_type": "code",
   "execution_count": 1,
   "metadata": {},
   "outputs": [],
   "source": [
    "# coding = utf-8\n",
    "import time\n",
    "import ThermDiff as TD\n",
    "import numpy as np\n",
    "import matplotlib.pyplot as pp"
   ]
  },
  {
   "cell_type": "markdown",
   "metadata": {},
   "source": [
    "## Condições de contorno:\n",
    "  - Parede isotérmica:\n",
    "  ```T = TD.isotermica(T0,dx,dt,nt,nc,integrador)```\n",
    "  - Parede adiabática:\n",
    "  ```T = TD.adiabatica(T0,dx,dt,nt,nc,integrador)```\n",
    "\n",
    "## Estrutura do módulo:\n",
    "\n",
    " * Diff2Schemes: Segunda derivada por diferenças finitas;\n",
    " * DiffSchemes: Primeira derivada por diferenças finitas (utilizado somente na integração Lax-Wendroff);\n",
    " * ADiffPoint: Operadores derivada assimétricos para condições de contorno de alta ordem;\n",
    " * DiffImp: Cálculo das matrizes para integração implícita, utiliza as bibliotecas BLAS e LAPACK.\n",
    "  "
   ]
  },
  {
   "cell_type": "markdown",
   "metadata": {},
   "source": [
    "## Matemática:\n",
    "\n",
    "### Operadores diferenciais:\n",
    "\n",
    "$$\\beta\\left(\\left. \\frac{\\partial T}{\\partial x}\\right|_{i-2} + \\left. \\frac{\\partial T}{\\partial x}\\right|_{i+2}\\right) + \\alpha\\left(\\left. \\frac{\\partial T}{\\partial x}\\right|_{i-1} + \\left. \\frac{\\partial T}{\\partial x}\\right|_{i+1} \\right) + \\left. \\frac{\\partial T}{\\partial x}\\right|_{i} = a\\frac{T_{i+1} - 2T_i + T_{i-1}}{\\Delta x^2} + b\\frac{T_{i+2} - 2T_i + T_{i-2}}{4\\Delta x^2} + c\\frac{T_{i+3} - 2T_i + T_{i-3}}{9\\Delta x^2}$$\n",
    "\n",
    "\n",
    "|Operador| a | b | c | $\\alpha$ | $\\beta$ |\n",
    "|:-------|:-:|:-:|:-:|:-:|:-:|\n",
    "|Center 2| 1 | 0 | 0 | 0 | 0 |\n",
    "|Center 4|-5/2|4/3|-1/12| 0 | 0 |\n",
    "|Thomas 4|4(1-$\\alpha$)/3|(10$\\alpha$-1)/3|0|1/10|0|\n",
    "|Thomas 6|3/11|12/11|0|2/11|0|\n",
    "|Thomas 8|(696-1191$\\alpha$)/428|(2454$\\alpha$-294)/535|0|344/1179|(38$\\alpha$-9)/214|\n",
    "|Thomas 10|1065/1798|1038/899|79/1798|334/899|43/1798|\n",
    "\n",
    "### Operadores assimétricos\n",
    "\n",
    "Implementados somente para cálculo da primeira derivada em um ponto específico.\n",
    "\n",
    "#### Backward 3\n",
    "\n",
    "$$\\left. \\frac{\\partial f}{\\partial x}\\right|_i = \\frac{-3f_i + 4f_{i-1} - f_{i-2}}{2\\Delta X}$$\n",
    "\n",
    "#### Forward 3\n",
    "\n",
    "$$\\left. \\frac{\\partial f}{\\partial x}\\right|_i = \\frac{3f_i - 4f_{i+1} + f_{i+2}}{2\\Delta X}$$\n",
    "\n",
    "#### Backward 4\n",
    "\n",
    "$$\\left. \\frac{\\partial f}{\\partial x}\\right|_i = \\frac{\\frac{11}{6}f_i - 3f_{i-1} + \\frac{3}{2}f_{i-2} - \\frac{1}{3}f_{i-3}}{\\Delta x}$$\n",
    "\n",
    "#### Forward 4\n",
    "\n",
    "$$\\left. \\frac{\\partial f}{\\partial x}\\right|_i = \\frac{-\\frac{11}{6}f_i + 3f_{i+1} - \\frac{3}{2}f_{i+2} + \\frac{1}{3}f_{i+3}}{\\Delta x}$$\n",
    "\n",
    "#### Backward 2 + Forward 1\n",
    "\n",
    "$$\\left. \\frac{\\partial f}{\\partial x}\\right|_i = \\frac{\\frac{1}{3}f_{i+1} + \\frac{1}{2}f_i - f_{i-1} + \\frac{1}{6}f_{i-2}}{\\Delta x}$$\n",
    "\n",
    "#### Backward 1 + Forward 2\n",
    "\n",
    "$$\\left. \\frac{\\partial f}{\\partial x}\\right|_i = \\frac{-\\frac{1}{3}f_{i-1} - \\frac{1}{2}f_i + f_{i+1} - \\frac{1}{6}f_{i+2}}{\\Delta x}$$\n",
    "\n",
    "### Integradores\n",
    "\n",
    "#### Euler explícito\n",
    "\n",
    "$$ T_{i+1} = T_i + \\Delta t \\left.\\frac{\\partial T}{\\partial t}\\right|_i $$\n",
    "\n",
    "#### MacCormack\n",
    "\n",
    "$$ \\tilde{T}_i = T_i + \\Delta t \\left.\\frac{\\partial T}{\\partial t}\\right|_i $$\n",
    "$$ T_{i+1} = \\frac{1}{2}\\left(T_i + \\tilde{T}_i + \\Delta t\\left.\\frac{\\partial T}{\\partial t}\\right|_i\\right) $$\n",
    "\n",
    "#### Runge-Kutta 4a\n",
    "\n",
    "$$ \\tilde{T}_i = T_i + \\frac{1}{2}\\Delta t \\left.\\frac{\\partial T}{\\partial t}\\right|_i $$\n",
    "\n",
    "$$ \\bar{T}_i = T_i + \\frac{1}{2}\\Delta t \\left.\\frac{\\partial \\tilde{T}}{\\partial t}\\right|_i $$\n",
    "\n",
    "$$ \\hat{T}_i = T_i + \\Delta t \\left.\\frac{\\partial \\bar{T}}{\\partial t}\\right|_i $$\n",
    "\n",
    "$$ T_{i+1} = T_i + \\Delta t \\frac{1}{6}\\left[\\left.\\frac{\\partial T}{\\partial t}\\right|_i + 2\\left(\\left.\\frac{\\partial \\tilde{T}}{\\partial t}\\right|_i + \\left.\\frac{\\partial \\bar{T}}{\\partial t}\\right|_i\\right) + \\left.\\frac{\\partial \\hat{T}}{\\partial t}\\right|_i\\right] $$\n",
    "\n",
    "#### Lax-Wendroff\n",
    "\n",
    "\n",
    "\n",
    "#### Euler implícito\n",
    "_TO DO_\n",
    "#### Trapezoidal\n",
    "_TO DO_\n",
    "#### Adam-Bashfort-Moulton 3\n",
    "_TO DO_\n",
    "\n",
    "### Integração implícita\n"
   ]
  },
  {
   "cell_type": "code",
   "execution_count": 7,
   "metadata": {},
   "outputs": [
    {
     "data": {
      "image/png": "[encoded data removed]",
      "text/plain": [
       "<Figure size 432x288 with 1 Axes>"
      ]
     },
     "metadata": {
      "needs_background": "light"
     },
     "output_type": "display_data"
    },
    {
     "data": {
      "image/png": "[encoded data removed]",
      "text/plain": [
       "<Figure size 432x288 with 1 Axes>"
      ]
     },
     "metadata": {
      "needs_background": "light"
     },
     "output_type": "display_data"
    },
    {
     "data": {
      "image/png": "[encoded data removed]",
      "text/plain": [
       "<Figure size 432x288 with 1 Axes>"
      ]
     },
     "metadata": {
      "needs_background": "light"
     },
     "output_type": "display_data"
    }
   ],
   "source": [
    "T1 = 300.; # Temperatura inicial 1\n",
    "T2 = 400.; # Temperatura inicial 2\n",
    "L = 8.;    # Comprimento do domínio\n",
    "nc = 100;  # Número de nós\n",
    "dx = L/nc;\n",
    "tf = 4e-1;\n",
    "dt = 5e-5;\n",
    "nt = int(tf/dt);\n",
    "Td = np.zeros((nc));\n",
    "Te = np.zeros((nc));\n",
    "Tl = np.zeros((nc));\n",
    "\n",
    "l = np.linspace(0,L,nc);\n",
    "t = np.linspace(0,tf,nt);\n",
    "\n",
    "for i in range(0,nc/2):\n",
    "    Td[i] = T1;\n",
    "    Tl[i] = T1 + (T2-T1)*l[i]/L;\n",
    "    Te[i] = T1 + (T2-T1)*np.exp(-(l[i]-L/2)**2);\n",
    "for i in range(nc/2,nc):\n",
    "    Td[i] = T2;\n",
    "    Tl[i] = T1 + (T2-T1)*l[i]/L;\n",
    "    Te[i] = T1 + (T2-T1)*np.exp(-(l[i]-L/2)**2);\n",
    "# end\n",
    "\n",
    "\n",
    "\n",
    "pp.figure()\n",
    "pp.plot(l,Td)\n",
    "pp.title('Degrau')\n",
    "pp.ylabel('Temperatura')\n",
    "pp.xlabel('Local')\n",
    "\n",
    "pp.figure()\n",
    "pp.plot(l,Tl)\n",
    "pp.title('Linear')\n",
    "pp.ylabel('Temperatura')\n",
    "pp.xlabel('Local')\n",
    "\n",
    "pp.figure()\n",
    "pp.plot(l,Te)\n",
    "pp.title('Exponencial')\n",
    "pp.ylabel('Temperatura')\n",
    "pp.xlabel('Local')\n",
    "\n",
    "pp.show()"
   ]
  },
  {
   "cell_type": "code",
   "execution_count": 13,
   "metadata": {},
   "outputs": [
    {
     "name": "stdout",
     "output_type": "stream",
     "text": [
      "('Tempo de processamento:', 0.0024610000000002685, 's')\n"
     ]
    }
   ],
   "source": [
    "# Euler explícito com discretização centrada\n",
    "integrador = 'A2222'\n",
    "tic = time.clock();\n",
    "T = TD.isotermica(Td,dx,dt,integrador,nt,nc)\n",
    "toc = time.clock();\n",
    "print('Tempo de processamento:',toc-tic,'s')"
   ]
  },
  {
   "cell_type": "code",
   "execution_count": 14,
   "metadata": {},
   "outputs": [
    {
     "data": {
      "image/png": "[encoded data removed]",
      "text/plain": [
       "<Figure size 432x288 with 1 Axes>"
      ]
     },
     "metadata": {
      "needs_background": "light"
     },
     "output_type": "display_data"
    }
   ],
   "source": [
    "pp.figure()\n",
    "pp.contourf(t, l, T)\n",
    "pp.xaxis('Tempo [s]')\n",
    "pp.yaxis('Local [mm]')\n",
    "pp.show()"
   ]
  },
  {
   "cell_type": "code",
   "execution_count": null,
   "metadata": {},
   "outputs": [],
   "source": []
  }
 ],
 "metadata": {
  "kernelspec": {
   "display_name": "Python 2",
   "language": "python",
   "name": "python2"
  },
  "language_info": {
   "codemirror_mode": {
    "name": "ipython",
    "version": 2
   },
   "file_extension": ".py",
   "mimetype": "text/x-python",
   "name": "python",
   "nbconvert_exporter": "python",
   "pygments_lexer": "ipython2",
   "version": "2.7.16"
  }
 },
 "nbformat": 4,
 "nbformat_minor": 2
}
